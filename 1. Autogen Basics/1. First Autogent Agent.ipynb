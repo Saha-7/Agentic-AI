{
 "cells": [
  {
   "cell_type": "markdown",
   "id": "6ea7174e",
   "metadata": {},
   "source": [
    "# First Autogen Agent"
   ]
  },
  {
   "cell_type": "code",
   "execution_count": 2,
   "id": "9c7143bb",
   "metadata": {},
   "outputs": [],
   "source": [
    "from autogen_agentchat.agents import AssistantAgent\n",
    "from autogen_ext.models.openai import OpenAIChatCompletionClient\n",
    "from dotenv import load_dotenv\n",
    "import os\n",
    "\n",
    "load_dotenv()\n",
    "\n",
    "api_key = os.getenv('OPENAI_API_KEY')\n",
    "\n",
    "model_client = OpenAIChatCompletionClient(model='gpt-4', api_key=api_key)\n",
    "assistant = AssistantAgent(name=\"assistant\", model_client=model_client)"
   ]
  }
 ],
 "metadata": {
  "kernelspec": {
   "display_name": "Python 3",
   "language": "python",
   "name": "python3"
  },
  "language_info": {
   "codemirror_mode": {
    "name": "ipython",
    "version": 3
   },
   "file_extension": ".py",
   "mimetype": "text/x-python",
   "name": "python",
   "nbconvert_exporter": "python",
   "pygments_lexer": "ipython3",
   "version": "3.12.11"
  }
 },
 "nbformat": 4,
 "nbformat_minor": 5
}
